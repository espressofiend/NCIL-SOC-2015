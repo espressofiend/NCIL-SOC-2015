{
 "cells": [
  {
   "cell_type": "code",
   "execution_count": 28,
   "metadata": {
    "collapsed": false
   },
   "outputs": [
    {
     "name": "stdout",
     "output_type": "stream",
     "text": [
      "Populating the interactive namespace from numpy and matplotlib\n"
     ]
    }
   ],
   "source": [
    "%pylab inline"
   ]
  },
  {
   "cell_type": "code",
   "execution_count": 29,
   "metadata": {
    "collapsed": true
   },
   "outputs": [],
   "source": [
    "import sys, string, commands"
   ]
  },
  {
   "cell_type": "code",
   "execution_count": 30,
   "metadata": {
    "collapsed": true
   },
   "outputs": [],
   "source": [
    "curFile = \"L1_English_MeanAmpl_IndivTrials_300-400.txt\""
   ]
  },
  {
   "cell_type": "code",
   "execution_count": 31,
   "metadata": {
    "collapsed": true
   },
   "outputs": [],
   "source": [
    "ROIlabels = {'FP1':'Lant',  'FF3':'Lant',  'FP3':'Lant',  'F3':'Lant',  'F5':'Lant',   'F7':'Lant', \n",
    "             'FC3':'Lcent', 'FC5':'Lcent', 'FC7':'Lcent', 'C3':'Lcent', 'C5':'Lcent',  'T3':'Lcent', 'CP3':'Lcent', 'CT5':'Lcent', 'CT7':'Lcent', \n",
    "             'P3':'Lpost',  'P5':'Lpost',  'T5':'Lpost',  'O1':'Lpost', 'T01':'Lpost', 'IN3':'Lpost', \n",
    "             'FF1':'Mant',  'FPZ':'Mant',  'FF2':'Mant',  'F1':'Mant',  'FZ':'Mant',   'F2':'Mant', \n",
    "             'FC1':'Mcent', 'FC2':'Mcent', 'C1':'Mcent',  'CZ':'Mcent', 'C2':'Mcent',  'CP1':'Mcent', 'CP2':'Mcent', \n",
    "             'P1':'Mpost',  'PZ':'Mpost',  'P2':'Mpost',  'P03':'Mpost','POZ':'Mpost', 'PO4':'Mpost', 'OZ':'Mpost',  'INZ':'Mpost', \n",
    "             'FP2':'Rant',  'FF4':'Rant',  'FP4':'Rant',  'F4':'Rant',  'F6':'Rant',   'F8':'Rant', \n",
    "             'FC4':'Rcent', 'FC6':'Rcent', 'FC8':'Rcent', 'C4':'Rcent', 'C6':'Rcent',  'T4':'Rcent', 'CP4':'Rcent', 'CT6':'Rcent', 'CT8':'Rcent', \n",
    "             'P4':'Rpost',  'P6':'Rpost',  'T6':'Rpost',  'O2':'Rpost', 'T02':'Rpost', 'IN4':'Rpost',\n",
    "             'A1':'NULL', 'HEOG':'NULL', 'VEOG':'NULL'}\n"
   ]
  },
  {
   "cell_type": "code",
   "execution_count": 58,
   "metadata": {
    "collapsed": false
   },
   "outputs": [],
   "source": [
    "inFile = file(curFile, 'r')"
   ]
  },
  {
   "cell_type": "code",
   "execution_count": 59,
   "metadata": {
    "collapsed": true
   },
   "outputs": [],
   "source": [
    "outFile = file(curFile.split('.')[0] + '_forR.txt', 'w') "
   ]
  },
  {
   "cell_type": "code",
   "execution_count": 60,
   "metadata": {
    "collapsed": false
   },
   "outputs": [],
   "source": [
    "# First line of outFile is the header:\n",
    "outFile.writelines(\"Subj SenType Condn ElecName ROI ElecNum Trial MeanAmpl\\n\")\n",
    "for line in inFile:\n",
    "    Data = string.split(line)\n",
    "    Cond = Data[1].split('_')\n",
    "    outFile.writelines([Data[0], \" \", Cond[0], \" \", Cond[1], \" \", \n",
    "                        Data[2],\" \", ROIlabels[Data[2]],\" \", \n",
    "                        Data[3], \" \", Data[6], \" \", Data[7], '\\n'])\n",
    "    "
   ]
  },
  {
   "cell_type": "code",
   "execution_count": 61,
   "metadata": {
    "collapsed": true
   },
   "outputs": [],
   "source": [
    "outFile.close()\n",
    "inFile.close()"
   ]
  }
 ],
 "metadata": {
  "kernelspec": {
   "display_name": "Python 2",
   "language": "python",
   "name": "python2"
  },
  "language_info": {
   "codemirror_mode": {
    "name": "ipython",
    "version": 2
   },
   "file_extension": ".py",
   "mimetype": "text/x-python",
   "name": "python",
   "nbconvert_exporter": "python",
   "pygments_lexer": "ipython2",
   "version": "2.7.6"
  }
 },
 "nbformat": 4,
 "nbformat_minor": 0
}
